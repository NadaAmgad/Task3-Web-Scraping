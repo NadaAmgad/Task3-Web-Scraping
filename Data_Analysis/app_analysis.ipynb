{
 "cells": [
  {
   "cell_type": "code",
   "execution_count": 1,
   "metadata": {},
   "outputs": [],
   "source": [
    "import pandas as pd\n",
    "import matplotlib.pyplot as plt\n",
    "import os\n",
    "from data_analysis_module import *\n",
    "from data_cleaning_module import *"
   ]
  },
  {
   "cell_type": "markdown",
   "metadata": {},
   "source": [
    "# 1. Data Importing:"
   ]
  },
  {
   "cell_type": "code",
   "execution_count": 2,
   "metadata": {},
   "outputs": [
    {
     "data": {
      "text/html": [
       "<div>\n",
       "<style scoped>\n",
       "    .dataframe tbody tr th:only-of-type {\n",
       "        vertical-align: middle;\n",
       "    }\n",
       "\n",
       "    .dataframe tbody tr th {\n",
       "        vertical-align: top;\n",
       "    }\n",
       "\n",
       "    .dataframe thead th {\n",
       "        text-align: right;\n",
       "    }\n",
       "</style>\n",
       "<table border=\"1\" class=\"dataframe\">\n",
       "  <thead>\n",
       "    <tr style=\"text-align: right;\">\n",
       "      <th></th>\n",
       "      <th>Name</th>\n",
       "      <th>Alt Name</th>\n",
       "      <th>Year</th>\n",
       "      <th>Genre</th>\n",
       "      <th>Duration</th>\n",
       "      <th>Moviemeter Rank</th>\n",
       "      <th>Moviemeter Rating</th>\n",
       "      <th>IMDB Rank</th>\n",
       "      <th>IMDB Rating</th>\n",
       "      <th>Movie Year</th>\n",
       "    </tr>\n",
       "  </thead>\n",
       "  <tbody>\n",
       "    <tr>\n",
       "      <th>0</th>\n",
       "      <td>The Shawshank Redemption</td>\n",
       "      <td></td>\n",
       "      <td>1994</td>\n",
       "      <td>Drama</td>\n",
       "      <td>142 minutes</td>\n",
       "      <td>1</td>\n",
       "      <td>4,42</td>\n",
       "      <td>1</td>\n",
       "      <td>9.3</td>\n",
       "      <td>1994</td>\n",
       "    </tr>\n",
       "    <tr>\n",
       "      <th>1</th>\n",
       "      <td>The Godfather</td>\n",
       "      <td>Mario Puzo's The Godfather</td>\n",
       "      <td>1972</td>\n",
       "      <td>Crime</td>\n",
       "      <td>175 minutes</td>\n",
       "      <td>2</td>\n",
       "      <td>4,37</td>\n",
       "      <td>2</td>\n",
       "      <td>9.2</td>\n",
       "      <td>1972</td>\n",
       "    </tr>\n",
       "    <tr>\n",
       "      <th>2</th>\n",
       "      <td>The Godfather: Part II</td>\n",
       "      <td>Mario Puzo's The Godfather: Part II</td>\n",
       "      <td>1974</td>\n",
       "      <td>Crime</td>\n",
       "      <td>202 minutes</td>\n",
       "      <td>3</td>\n",
       "      <td>4,29</td>\n",
       "      <td>4</td>\n",
       "      <td>9.0</td>\n",
       "      <td>1974</td>\n",
       "    </tr>\n",
       "    <tr>\n",
       "      <th>3</th>\n",
       "      <td>The Green Mile</td>\n",
       "      <td>Stephen King's The Green Mile</td>\n",
       "      <td>1999</td>\n",
       "      <td>Fantasy, Drama</td>\n",
       "      <td>189 minutes</td>\n",
       "      <td>4</td>\n",
       "      <td>4,28</td>\n",
       "      <td>28</td>\n",
       "      <td>8.6</td>\n",
       "      <td>1999</td>\n",
       "    </tr>\n",
       "    <tr>\n",
       "      <th>4</th>\n",
       "      <td>Pulp Fiction</td>\n",
       "      <td></td>\n",
       "      <td>1994</td>\n",
       "      <td>Crime, Drama</td>\n",
       "      <td>154 minutes</td>\n",
       "      <td>5</td>\n",
       "      <td>4,26</td>\n",
       "      <td>8</td>\n",
       "      <td>8.9</td>\n",
       "      <td>1994</td>\n",
       "    </tr>\n",
       "    <tr>\n",
       "      <th>...</th>\n",
       "      <td>...</td>\n",
       "      <td>...</td>\n",
       "      <td>...</td>\n",
       "      <td>...</td>\n",
       "      <td>...</td>\n",
       "      <td>...</td>\n",
       "      <td>...</td>\n",
       "      <td>...</td>\n",
       "      <td>...</td>\n",
       "      <td>...</td>\n",
       "    </tr>\n",
       "    <tr>\n",
       "      <th>129</th>\n",
       "      <td>Batman Begins</td>\n",
       "      <td></td>\n",
       "      <td>2005</td>\n",
       "      <td>Action, Crime</td>\n",
       "      <td>140 minutes</td>\n",
       "      <td>232</td>\n",
       "      <td>3,78</td>\n",
       "      <td>129</td>\n",
       "      <td>8.2</td>\n",
       "      <td>2005</td>\n",
       "    </tr>\n",
       "    <tr>\n",
       "      <th>130</th>\n",
       "      <td>Room</td>\n",
       "      <td></td>\n",
       "      <td>2015</td>\n",
       "      <td>Drama</td>\n",
       "      <td>118 minutes</td>\n",
       "      <td>235</td>\n",
       "      <td>3,78</td>\n",
       "      <td>207</td>\n",
       "      <td>8.1</td>\n",
       "      <td>2015</td>\n",
       "    </tr>\n",
       "    <tr>\n",
       "      <th>131</th>\n",
       "      <td>The Help</td>\n",
       "      <td></td>\n",
       "      <td>2011</td>\n",
       "      <td>Drama</td>\n",
       "      <td>146 minutes</td>\n",
       "      <td>236</td>\n",
       "      <td>3,78</td>\n",
       "      <td>245</td>\n",
       "      <td>8.1</td>\n",
       "      <td>2011</td>\n",
       "    </tr>\n",
       "    <tr>\n",
       "      <th>132</th>\n",
       "      <td>The Great Dictator</td>\n",
       "      <td>De Dictator</td>\n",
       "      <td>1940</td>\n",
       "      <td>Comedy, War</td>\n",
       "      <td>125 minutes</td>\n",
       "      <td>237</td>\n",
       "      <td>3,78</td>\n",
       "      <td>65</td>\n",
       "      <td>8.4</td>\n",
       "      <td>1940</td>\n",
       "    </tr>\n",
       "    <tr>\n",
       "      <th>133</th>\n",
       "      <td>Dial M for Murder</td>\n",
       "      <td>U Spreekt met Uw Moordenaar</td>\n",
       "      <td>1954</td>\n",
       "      <td>Thriller, Crime</td>\n",
       "      <td>105 minutes</td>\n",
       "      <td>238</td>\n",
       "      <td>3,78</td>\n",
       "      <td>159</td>\n",
       "      <td>8.2</td>\n",
       "      <td>1954</td>\n",
       "    </tr>\n",
       "  </tbody>\n",
       "</table>\n",
       "<p>134 rows × 10 columns</p>\n",
       "</div>"
      ],
      "text/plain": [
       "                         Name                             Alt Name  Year  \\\n",
       "0    The Shawshank Redemption                                       1994   \n",
       "1               The Godfather           Mario Puzo's The Godfather  1972   \n",
       "2      The Godfather: Part II  Mario Puzo's The Godfather: Part II  1974   \n",
       "3              The Green Mile        Stephen King's The Green Mile  1999   \n",
       "4                Pulp Fiction                                       1994   \n",
       "..                        ...                                  ...   ...   \n",
       "129             Batman Begins                                       2005   \n",
       "130                      Room                                       2015   \n",
       "131                  The Help                                       2011   \n",
       "132        The Great Dictator                          De Dictator  1940   \n",
       "133         Dial M for Murder          U Spreekt met Uw Moordenaar  1954   \n",
       "\n",
       "               Genre     Duration  Moviemeter Rank Moviemeter Rating  \\\n",
       "0              Drama  142 minutes                1              4,42   \n",
       "1              Crime  175 minutes                2              4,37   \n",
       "2              Crime  202 minutes                3              4,29   \n",
       "3     Fantasy, Drama  189 minutes                4              4,28   \n",
       "4       Crime, Drama  154 minutes                5              4,26   \n",
       "..               ...          ...              ...               ...   \n",
       "129    Action, Crime  140 minutes              232              3,78   \n",
       "130            Drama  118 minutes              235              3,78   \n",
       "131            Drama  146 minutes              236              3,78   \n",
       "132      Comedy, War  125 minutes              237              3,78   \n",
       "133  Thriller, Crime  105 minutes              238              3,78   \n",
       "\n",
       "     IMDB Rank  IMDB Rating  Movie Year  \n",
       "0            1          9.3        1994  \n",
       "1            2          9.2        1972  \n",
       "2            4          9.0        1974  \n",
       "3           28          8.6        1999  \n",
       "4            8          8.9        1994  \n",
       "..         ...          ...         ...  \n",
       "129        129          8.2        2005  \n",
       "130        207          8.1        2015  \n",
       "131        245          8.1        2011  \n",
       "132         65          8.4        1940  \n",
       "133        159          8.2        1954  \n",
       "\n",
       "[134 rows x 10 columns]"
      ]
     },
     "execution_count": 2,
     "metadata": {},
     "output_type": "execute_result"
    }
   ],
   "source": [
    "combined_data_dataframe = pd.read_csv(os.path.abspath('../src/combined_data.csv'))\n",
    "combined_data_dataframe"
   ]
  },
  {
   "cell_type": "markdown",
   "metadata": {},
   "source": [
    "# 2. Data Cleaning :"
   ]
  },
  {
   "cell_type": "code",
   "execution_count": 3,
   "metadata": {},
   "outputs": [
    {
     "data": {
      "text/html": [
       "<div>\n",
       "<style scoped>\n",
       "    .dataframe tbody tr th:only-of-type {\n",
       "        vertical-align: middle;\n",
       "    }\n",
       "\n",
       "    .dataframe tbody tr th {\n",
       "        vertical-align: top;\n",
       "    }\n",
       "\n",
       "    .dataframe thead th {\n",
       "        text-align: right;\n",
       "    }\n",
       "</style>\n",
       "<table border=\"1\" class=\"dataframe\">\n",
       "  <thead>\n",
       "    <tr style=\"text-align: right;\">\n",
       "      <th></th>\n",
       "      <th>Name</th>\n",
       "      <th>Alt Name</th>\n",
       "      <th>Year</th>\n",
       "      <th>Genre</th>\n",
       "      <th>Duration</th>\n",
       "      <th>Moviemeter Rank</th>\n",
       "      <th>Moviemeter Rating</th>\n",
       "      <th>IMDB Rank</th>\n",
       "      <th>IMDB Rating</th>\n",
       "      <th>Movie Year</th>\n",
       "    </tr>\n",
       "  </thead>\n",
       "  <tbody>\n",
       "    <tr>\n",
       "      <th>0</th>\n",
       "      <td>the shawshank redemption</td>\n",
       "      <td></td>\n",
       "      <td>1994</td>\n",
       "      <td>drama</td>\n",
       "      <td>142</td>\n",
       "      <td>1</td>\n",
       "      <td>4.42</td>\n",
       "      <td>1</td>\n",
       "      <td>9.3</td>\n",
       "      <td>1994</td>\n",
       "    </tr>\n",
       "    <tr>\n",
       "      <th>1</th>\n",
       "      <td>the godfather</td>\n",
       "      <td>mario puzo's the godfather</td>\n",
       "      <td>1972</td>\n",
       "      <td>crime</td>\n",
       "      <td>175</td>\n",
       "      <td>2</td>\n",
       "      <td>4.37</td>\n",
       "      <td>2</td>\n",
       "      <td>9.2</td>\n",
       "      <td>1972</td>\n",
       "    </tr>\n",
       "    <tr>\n",
       "      <th>2</th>\n",
       "      <td>the godfather: part ii</td>\n",
       "      <td>mario puzo's the godfather: part ii</td>\n",
       "      <td>1974</td>\n",
       "      <td>crime</td>\n",
       "      <td>202</td>\n",
       "      <td>3</td>\n",
       "      <td>4.29</td>\n",
       "      <td>4</td>\n",
       "      <td>9.0</td>\n",
       "      <td>1974</td>\n",
       "    </tr>\n",
       "    <tr>\n",
       "      <th>3</th>\n",
       "      <td>the green mile</td>\n",
       "      <td>stephen king's the green mile</td>\n",
       "      <td>1999</td>\n",
       "      <td>fantasy, drama</td>\n",
       "      <td>189</td>\n",
       "      <td>4</td>\n",
       "      <td>4.28</td>\n",
       "      <td>28</td>\n",
       "      <td>8.6</td>\n",
       "      <td>1999</td>\n",
       "    </tr>\n",
       "    <tr>\n",
       "      <th>4</th>\n",
       "      <td>pulp fiction</td>\n",
       "      <td></td>\n",
       "      <td>1994</td>\n",
       "      <td>crime, drama</td>\n",
       "      <td>154</td>\n",
       "      <td>5</td>\n",
       "      <td>4.26</td>\n",
       "      <td>8</td>\n",
       "      <td>8.9</td>\n",
       "      <td>1994</td>\n",
       "    </tr>\n",
       "    <tr>\n",
       "      <th>...</th>\n",
       "      <td>...</td>\n",
       "      <td>...</td>\n",
       "      <td>...</td>\n",
       "      <td>...</td>\n",
       "      <td>...</td>\n",
       "      <td>...</td>\n",
       "      <td>...</td>\n",
       "      <td>...</td>\n",
       "      <td>...</td>\n",
       "      <td>...</td>\n",
       "    </tr>\n",
       "    <tr>\n",
       "      <th>129</th>\n",
       "      <td>batman begins</td>\n",
       "      <td></td>\n",
       "      <td>2005</td>\n",
       "      <td>action, crime</td>\n",
       "      <td>140</td>\n",
       "      <td>232</td>\n",
       "      <td>3.78</td>\n",
       "      <td>129</td>\n",
       "      <td>8.2</td>\n",
       "      <td>2005</td>\n",
       "    </tr>\n",
       "    <tr>\n",
       "      <th>130</th>\n",
       "      <td>room</td>\n",
       "      <td></td>\n",
       "      <td>2015</td>\n",
       "      <td>drama</td>\n",
       "      <td>118</td>\n",
       "      <td>235</td>\n",
       "      <td>3.78</td>\n",
       "      <td>207</td>\n",
       "      <td>8.1</td>\n",
       "      <td>2015</td>\n",
       "    </tr>\n",
       "    <tr>\n",
       "      <th>131</th>\n",
       "      <td>the help</td>\n",
       "      <td></td>\n",
       "      <td>2011</td>\n",
       "      <td>drama</td>\n",
       "      <td>146</td>\n",
       "      <td>236</td>\n",
       "      <td>3.78</td>\n",
       "      <td>245</td>\n",
       "      <td>8.1</td>\n",
       "      <td>2011</td>\n",
       "    </tr>\n",
       "    <tr>\n",
       "      <th>132</th>\n",
       "      <td>the great dictator</td>\n",
       "      <td>de dictator</td>\n",
       "      <td>1940</td>\n",
       "      <td>comedy, war</td>\n",
       "      <td>125</td>\n",
       "      <td>237</td>\n",
       "      <td>3.78</td>\n",
       "      <td>65</td>\n",
       "      <td>8.4</td>\n",
       "      <td>1940</td>\n",
       "    </tr>\n",
       "    <tr>\n",
       "      <th>133</th>\n",
       "      <td>dial m for murder</td>\n",
       "      <td>u spreekt met uw moordenaar</td>\n",
       "      <td>1954</td>\n",
       "      <td>thriller, crime</td>\n",
       "      <td>105</td>\n",
       "      <td>238</td>\n",
       "      <td>3.78</td>\n",
       "      <td>159</td>\n",
       "      <td>8.2</td>\n",
       "      <td>1954</td>\n",
       "    </tr>\n",
       "  </tbody>\n",
       "</table>\n",
       "<p>134 rows × 10 columns</p>\n",
       "</div>"
      ],
      "text/plain": [
       "                         Name                             Alt Name  Year  \\\n",
       "0    the shawshank redemption                                       1994   \n",
       "1               the godfather           mario puzo's the godfather  1972   \n",
       "2      the godfather: part ii  mario puzo's the godfather: part ii  1974   \n",
       "3              the green mile        stephen king's the green mile  1999   \n",
       "4                pulp fiction                                       1994   \n",
       "..                        ...                                  ...   ...   \n",
       "129             batman begins                                       2005   \n",
       "130                      room                                       2015   \n",
       "131                  the help                                       2011   \n",
       "132        the great dictator                          de dictator  1940   \n",
       "133         dial m for murder          u spreekt met uw moordenaar  1954   \n",
       "\n",
       "               Genre  Duration  Moviemeter Rank  Moviemeter Rating  IMDB Rank  \\\n",
       "0              drama       142                1               4.42          1   \n",
       "1              crime       175                2               4.37          2   \n",
       "2              crime       202                3               4.29          4   \n",
       "3     fantasy, drama       189                4               4.28         28   \n",
       "4       crime, drama       154                5               4.26          8   \n",
       "..               ...       ...              ...                ...        ...   \n",
       "129    action, crime       140              232               3.78        129   \n",
       "130            drama       118              235               3.78        207   \n",
       "131            drama       146              236               3.78        245   \n",
       "132      comedy, war       125              237               3.78         65   \n",
       "133  thriller, crime       105              238               3.78        159   \n",
       "\n",
       "     IMDB Rating  Movie Year  \n",
       "0            9.3        1994  \n",
       "1            9.2        1972  \n",
       "2            9.0        1974  \n",
       "3            8.6        1999  \n",
       "4            8.9        1994  \n",
       "..           ...         ...  \n",
       "129          8.2        2005  \n",
       "130          8.1        2015  \n",
       "131          8.1        2011  \n",
       "132          8.4        1940  \n",
       "133          8.2        1954  \n",
       "\n",
       "[134 rows x 10 columns]"
      ]
     },
     "execution_count": 3,
     "metadata": {},
     "output_type": "execute_result"
    }
   ],
   "source": [
    "df_cd = clean_data(combined_data_dataframe)\n",
    "df_cd"
   ]
  },
  {
   "cell_type": "markdown",
   "metadata": {},
   "source": [
    "### Finding Outliers :"
   ]
  },
  {
   "cell_type": "code",
   "execution_count": 4,
   "metadata": {},
   "outputs": [
    {
     "data": {
      "image/png": "[encoded data removed]",
      "text/plain": [
       "<Figure size 640x480 with 1 Axes>"
      ]
     },
     "metadata": {},
     "output_type": "display_data"
    },
    {
     "data": {
      "image/png": "[encoded data removed]",
      "text/plain": [
       "<Figure size 640x480 with 1 Axes>"
      ]
     },
     "metadata": {},
     "output_type": "display_data"
    },
    {
     "data": {
      "text/plain": [
       "<Figure size 640x480 with 0 Axes>"
      ]
     },
     "metadata": {},
     "output_type": "display_data"
    }
   ],
   "source": [
    "outliers_plot(df_cd,'Moviemeter Rating','Year')\n",
    "outliers_plot(df_cd,'IMDB Rating','Year')"
   ]
  },
  {
   "cell_type": "markdown",
   "metadata": {},
   "source": [
    "### Removing Outliers :\n",
    "#### Outliers removal will not provide better insight to our case study also movies per decade analysis will be affected"
   ]
  },
  {
   "cell_type": "code",
   "execution_count": 5,
   "metadata": {},
   "outputs": [],
   "source": [
    "# df_mm = remove_outliers(df_mm,'Rating',0,0.98)\n",
    "# df_mm = remove_outliers(df_mm,'Movie Rating',0,0.995)"
   ]
  },
  {
   "cell_type": "code",
   "execution_count": 6,
   "metadata": {},
   "outputs": [],
   "source": [
    "# outliers_plot(df_mm,'Rating','Year')\n",
    "# outliers_plot(df_mm,'Movie Rating','Year')"
   ]
  },
  {
   "cell_type": "markdown",
   "metadata": {},
   "source": [
    "# 3. Data Analysis"
   ]
  },
  {
   "cell_type": "markdown",
   "metadata": {},
   "source": [
    "### Top Rated n :"
   ]
  },
  {
   "cell_type": "code",
   "execution_count": 7,
   "metadata": {},
   "outputs": [
    {
     "name": "stdout",
     "output_type": "stream",
     "text": [
      "0    the shawshank redemption\n",
      "1               the godfather\n",
      "2      the godfather: part ii\n",
      "3              the green mile\n",
      "4                pulp fiction\n",
      "Name: Name, dtype: object\n",
      "---------------------------------------------------------\n",
      "0                          the shawshank redemption\n",
      "1                                     the godfather\n",
      "5     the lord of the rings: the return of the king\n",
      "23                                     12 angry men\n",
      "6                                  schindler's list\n",
      "Name: Name, dtype: object\n"
     ]
    }
   ],
   "source": [
    "#MovieMeter\n",
    "print(top_rated(df_cd,5,col='Moviemeter Rating'))\n",
    "\n",
    "print('---------------------------------------------------------')\n",
    "\n",
    "#IMDB\n",
    "print(top_rated(df_cd,5,col='IMDB Rating'))"
   ]
  },
  {
   "cell_type": "markdown",
   "metadata": {},
   "source": [
    "#### Top Rated n Reversed :"
   ]
  },
  {
   "cell_type": "code",
   "execution_count": 8,
   "metadata": {},
   "outputs": [
    {
     "name": "stdout",
     "output_type": "stream",
     "text": [
      "133     dial m for murder\n",
      "129         batman begins\n",
      "132    the great dictator\n",
      "131              the help\n",
      "130                  room\n",
      "Name: Name, dtype: object\n",
      "---------------------------------------------------------\n",
      "114       the grapes of wrath\n",
      "98                      fargo\n",
      "103    la battaglia di algeri\n",
      "97              the third man\n",
      "46                  prisoners\n",
      "Name: Name, dtype: object\n"
     ]
    }
   ],
   "source": [
    "print(top_rated(df_cd,5,col='Moviemeter Rating',reverse=True))\n",
    "\n",
    "print('---------------------------------------------------------')\n",
    "\n",
    "print(top_rated(df_cd,5,col='IMDB Rating',reverse=True))\n"
   ]
  },
  {
   "cell_type": "markdown",
   "metadata": {},
   "source": [
    "### Number of movies per decade from top 250 :"
   ]
  },
  {
   "cell_type": "code",
   "execution_count": 9,
   "metadata": {},
   "outputs": [
    {
     "data": {
      "text/plain": [
       "Decade\n",
       "1940     8\n",
       "1950    10\n",
       "1960     9\n",
       "1970    10\n",
       "1980    16\n",
       "1990    32\n",
       "2000    25\n",
       "2010    22\n",
       "2020     2\n",
       "Name: Decade, dtype: int64"
      ]
     },
     "execution_count": 9,
     "metadata": {},
     "output_type": "execute_result"
    }
   ],
   "source": [
    "movies_per_decade(df_cd)"
   ]
  },
  {
   "cell_type": "markdown",
   "metadata": {},
   "source": [
    "### Rating Distribution :"
   ]
  },
  {
   "cell_type": "markdown",
   "metadata": {},
   "source": [
    "#### Moviemeter Distribution"
   ]
  },
  {
   "cell_type": "code",
   "execution_count": 10,
   "metadata": {},
   "outputs": [
    {
     "data": {
      "image/png": "[encoded data removed]",
      "text/plain": [
       "<Figure size 640x480 with 1 Axes>"
      ]
     },
     "metadata": {},
     "output_type": "display_data"
    }
   ],
   "source": [
    "rating_distribution(df_cd)"
   ]
  },
  {
   "cell_type": "markdown",
   "metadata": {},
   "source": [
    "####"
   ]
  },
  {
   "cell_type": "markdown",
   "metadata": {},
   "source": [
    "### Genre Analysis :"
   ]
  },
  {
   "cell_type": "code",
   "execution_count": 11,
   "metadata": {},
   "outputs": [
    {
     "name": "stdout",
     "output_type": "stream",
     "text": [
      "The most common genre is: Drama\n"
     ]
    }
   ],
   "source": [
    "most_common = most_common_movie_genre(df_cd,col='Genre')\n",
    "\n",
    "print(\"The most common genre is: \" + most_common)"
   ]
  },
  {
   "cell_type": "markdown",
   "metadata": {},
   "source": [
    "#### Genre Distribution :"
   ]
  },
  {
   "cell_type": "code",
   "execution_count": 12,
   "metadata": {},
   "outputs": [
    {
     "data": {
      "image/png": "[encoded data removed]",
      "text/plain": [
       "<Figure size 640x480 with 1 Axes>"
      ]
     },
     "metadata": {},
     "output_type": "display_data"
    }
   ],
   "source": [
    "genre_distribution()"
   ]
  }
 ],
 "metadata": {
  "kernelspec": {
   "display_name": "Python 3",
   "language": "python",
   "name": "python3"
  },
  "language_info": {
   "codemirror_mode": {
    "name": "ipython",
    "version": 3
   },
   "file_extension": ".py",
   "mimetype": "text/x-python",
   "name": "python",
   "nbconvert_exporter": "python",
   "pygments_lexer": "ipython3",
   "version": "3.11.5"
  },
  "orig_nbformat": 4
 },
 "nbformat": 4,
 "nbformat_minor": 2
}
